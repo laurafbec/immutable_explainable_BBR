{
 "cells": [
  {
   "cell_type": "code",
   "execution_count": 21,
   "metadata": {},
   "outputs": [],
   "source": [
    "import pandas as pd"
   ]
  },
  {
   "cell_type": "markdown",
   "metadata": {},
   "source": [
    "# Explainability assessment of Scenario 1"
   ]
  },
  {
   "cell_type": "code",
   "execution_count": 87,
   "metadata": {},
   "outputs": [],
   "source": [
    "dataset_scn1 = pd.read_excel(\"LLMs_QA_Results.xlsx\",sheet_name = \"Scn1_Interpreted_1\")"
   ]
  },
  {
   "cell_type": "code",
   "execution_count": 88,
   "metadata": {},
   "outputs": [
    {
     "data": {
      "text/html": [
       "<div>\n",
       "<style scoped>\n",
       "    .dataframe tbody tr th:only-of-type {\n",
       "        vertical-align: middle;\n",
       "    }\n",
       "\n",
       "    .dataframe tbody tr th {\n",
       "        vertical-align: top;\n",
       "    }\n",
       "\n",
       "    .dataframe thead th {\n",
       "        text-align: right;\n",
       "    }\n",
       "</style>\n",
       "<table border=\"1\" class=\"dataframe\">\n",
       "  <thead>\n",
       "    <tr style=\"text-align: right;\">\n",
       "      <th></th>\n",
       "      <th></th>\n",
       "      <th>QUESTION</th>\n",
       "      <th>CATEGORY NAME</th>\n",
       "      <th>CATEGORY ID</th>\n",
       "      <th>REAL ANSWER</th>\n",
       "      <th>PREDICTED ANSWER</th>\n",
       "      <th>REASONING</th>\n",
       "      <th>CORRECTNESS</th>\n",
       "      <th>ACCURACY</th>\n",
       "      <th>CONCISENESS</th>\n",
       "      <th>COHERENCE</th>\n",
       "      <th>HELPFULNESS</th>\n",
       "    </tr>\n",
       "  </thead>\n",
       "  <tbody>\n",
       "    <tr>\n",
       "      <th>test1</th>\n",
       "      <th>0</th>\n",
       "      <td>What has happened in this ROS2 log regarding n...</td>\n",
       "      <td>Navigation Process Overview</td>\n",
       "      <td>0</td>\n",
       "      <td>Based on the provided ROS2 log, the following ...</td>\n",
       "      <td>Based on the provided context, it appears that...</td>\n",
       "      <td>The assistant's response is accurate and align...</td>\n",
       "      <td>1</td>\n",
       "      <td>10</td>\n",
       "      <td>10</td>\n",
       "      <td>10</td>\n",
       "      <td>10</td>\n",
       "    </tr>\n",
       "    <tr>\n",
       "      <th rowspan=\"4\" valign=\"top\">NaN</th>\n",
       "      <th>1</th>\n",
       "      <td>How has the navigation task proceeded?</td>\n",
       "      <td>Navigation Process Overview</td>\n",
       "      <td>0</td>\n",
       "      <td>From the initial position, the robot navigated...</td>\n",
       "      <td>Based on the provided context, it seems that t...</td>\n",
       "      <td>The AI's response aligns with the reference in...</td>\n",
       "      <td>1</td>\n",
       "      <td>7</td>\n",
       "      <td>5</td>\n",
       "      <td>5</td>\n",
       "      <td>5</td>\n",
       "    </tr>\n",
       "    <tr>\n",
       "      <th>2</th>\n",
       "      <td>Has the robot re-planned an alternative trajec...</td>\n",
       "      <td>Trajectory Planning and Replanning</td>\n",
       "      <td>1</td>\n",
       "      <td>Yes, the robot has re-planned an alternative t...</td>\n",
       "      <td>Yes, the robot has re-planned an alternative t...</td>\n",
       "      <td>The AI assistant's response is accurate as it ...</td>\n",
       "      <td>1</td>\n",
       "      <td>10</td>\n",
       "      <td>10</td>\n",
       "      <td>10</td>\n",
       "      <td>10</td>\n",
       "    </tr>\n",
       "    <tr>\n",
       "      <th>3</th>\n",
       "      <td>Why did the robot replan the route?</td>\n",
       "      <td>Trajectory Planning and Replanning</td>\n",
       "      <td>1</td>\n",
       "      <td>The robot replanned the route due to unkwon re...</td>\n",
       "      <td>Based on the provided context, the robot repla...</td>\n",
       "      <td>The assistant's response is accurate as it cor...</td>\n",
       "      <td>1</td>\n",
       "      <td>10</td>\n",
       "      <td>7</td>\n",
       "      <td>7</td>\n",
       "      <td>7</td>\n",
       "    </tr>\n",
       "    <tr>\n",
       "      <th>4</th>\n",
       "      <td>How many goals have been reached by the robot?</td>\n",
       "      <td>Goal Completion and Navigation Task Status</td>\n",
       "      <td>2</td>\n",
       "      <td>The robot has reached 3 goals.</td>\n",
       "      <td>Based on the provided context, we know that th...</td>\n",
       "      <td>The AI assistant's response is accurate, conci...</td>\n",
       "      <td>1</td>\n",
       "      <td>10</td>\n",
       "      <td>10</td>\n",
       "      <td>10</td>\n",
       "      <td>10</td>\n",
       "    </tr>\n",
       "  </tbody>\n",
       "</table>\n",
       "</div>"
      ],
      "text/plain": [
       "                                                  QUESTION  \\\n",
       "test1 0  What has happened in this ROS2 log regarding n...   \n",
       "NaN   1             How has the navigation task proceeded?   \n",
       "      2  Has the robot re-planned an alternative trajec...   \n",
       "      3                Why did the robot replan the route?   \n",
       "      4     How many goals have been reached by the robot?   \n",
       "\n",
       "                                      CATEGORY NAME  CATEGORY ID  \\\n",
       "test1 0                 Navigation Process Overview            0   \n",
       "NaN   1                 Navigation Process Overview            0   \n",
       "      2          Trajectory Planning and Replanning            1   \n",
       "      3          Trajectory Planning and Replanning            1   \n",
       "      4  Goal Completion and Navigation Task Status            2   \n",
       "\n",
       "                                               REAL ANSWER  \\\n",
       "test1 0  Based on the provided ROS2 log, the following ...   \n",
       "NaN   1  From the initial position, the robot navigated...   \n",
       "      2  Yes, the robot has re-planned an alternative t...   \n",
       "      3  The robot replanned the route due to unkwon re...   \n",
       "      4                     The robot has reached 3 goals.   \n",
       "\n",
       "                                          PREDICTED ANSWER  \\\n",
       "test1 0  Based on the provided context, it appears that...   \n",
       "NaN   1  Based on the provided context, it seems that t...   \n",
       "      2  Yes, the robot has re-planned an alternative t...   \n",
       "      3  Based on the provided context, the robot repla...   \n",
       "      4  Based on the provided context, we know that th...   \n",
       "\n",
       "                                                 REASONING  CORRECTNESS  \\\n",
       "test1 0  The assistant's response is accurate and align...            1   \n",
       "NaN   1  The AI's response aligns with the reference in...            1   \n",
       "      2  The AI assistant's response is accurate as it ...            1   \n",
       "      3  The assistant's response is accurate as it cor...            1   \n",
       "      4  The AI assistant's response is accurate, conci...            1   \n",
       "\n",
       "         ACCURACY  CONCISENESS  COHERENCE  HELPFULNESS  \n",
       "test1 0        10           10         10           10  \n",
       "NaN   1         7            5          5            5  \n",
       "      2        10           10         10           10  \n",
       "      3        10            7          7            7  \n",
       "      4        10           10         10           10  "
      ]
     },
     "execution_count": 88,
     "metadata": {},
     "output_type": "execute_result"
    }
   ],
   "source": [
    "dataset_scn1.head()"
   ]
  },
  {
   "cell_type": "code",
   "execution_count": 89,
   "metadata": {},
   "outputs": [
    {
     "name": "stdout",
     "output_type": "stream",
     "text": [
      "What was the linear velocity of the robot after receiving the goal number 1?\n"
     ]
    }
   ],
   "source": [
    "print(dataset_scn1['QUESTION'][77])"
   ]
  },
  {
   "cell_type": "code",
   "execution_count": 90,
   "metadata": {},
   "outputs": [
    {
     "name": "stdout",
     "output_type": "stream",
     "text": [
      "The linear velocity of the robot was 0.24631578947368427.\n"
     ]
    }
   ],
   "source": [
    "print(dataset_scn1['REAL ANSWER'][77])"
   ]
  },
  {
   "cell_type": "code",
   "execution_count": 91,
   "metadata": {},
   "outputs": [
    {
     "name": "stdout",
     "output_type": "stream",
     "text": [
      "According to the context provided, the linear velocity of the robot after receiving the goal number 1 is 0.24631578947368427.\n"
     ]
    }
   ],
   "source": [
    "print(dataset_scn1['PREDICTED ANSWER'][77])"
   ]
  },
  {
   "cell_type": "code",
   "execution_count": 92,
   "metadata": {},
   "outputs": [
    {
     "name": "stdout",
     "output_type": "stream",
     "text": [
      "The assistant's response is highly accurate as it correctly states the linear velocity of the robot after receiving goal number 1, which exactly aligns with the reference answer. The response is concise, without unnecessary words or filler content. The structure of the answer is also coherent, presenting the information in a clear and logical manner. Lastly, the response is helpful as it directly answers the user's question with the correct information.\n"
     ]
    }
   ],
   "source": [
    "print(dataset_scn1['REASONING'][77])"
   ]
  },
  {
   "cell_type": "code",
   "execution_count": 93,
   "metadata": {},
   "outputs": [
    {
     "name": "stdout",
     "output_type": "stream",
     "text": [
      "1\n"
     ]
    }
   ],
   "source": [
    "print(dataset_scn1['CORRECTNESS'][77])"
   ]
  },
  {
   "cell_type": "code",
   "execution_count": 94,
   "metadata": {},
   "outputs": [
    {
     "name": "stdout",
     "output_type": "stream",
     "text": [
      "10\n"
     ]
    }
   ],
   "source": [
    "print(dataset_scn1['ACCURACY'][77])"
   ]
  },
  {
   "cell_type": "code",
   "execution_count": 95,
   "metadata": {},
   "outputs": [
    {
     "name": "stdout",
     "output_type": "stream",
     "text": [
      "10\n"
     ]
    }
   ],
   "source": [
    "print(dataset_scn1['CONCISENESS'][77])"
   ]
  },
  {
   "cell_type": "code",
   "execution_count": 96,
   "metadata": {},
   "outputs": [
    {
     "name": "stdout",
     "output_type": "stream",
     "text": [
      "10\n"
     ]
    }
   ],
   "source": [
    "print(dataset_scn1['COHERENCE'][77])"
   ]
  },
  {
   "cell_type": "code",
   "execution_count": 97,
   "metadata": {},
   "outputs": [
    {
     "name": "stdout",
     "output_type": "stream",
     "text": [
      "10\n"
     ]
    }
   ],
   "source": [
    "print(dataset_scn1['HELPFULNESS'][77])"
   ]
  },
  {
   "cell_type": "markdown",
   "metadata": {},
   "source": [
    "# Explainability assessment of Scenario 2"
   ]
  },
  {
   "cell_type": "code",
   "execution_count": 98,
   "metadata": {},
   "outputs": [],
   "source": [
    "dataset_scn2 = pd.read_excel(\"LLMs_QA_Results.xlsx\",sheet_name = \"Scn2_Interpreted_1\")"
   ]
  },
  {
   "cell_type": "code",
   "execution_count": 99,
   "metadata": {},
   "outputs": [
    {
     "data": {
      "text/html": [
       "<div>\n",
       "<style scoped>\n",
       "    .dataframe tbody tr th:only-of-type {\n",
       "        vertical-align: middle;\n",
       "    }\n",
       "\n",
       "    .dataframe tbody tr th {\n",
       "        vertical-align: top;\n",
       "    }\n",
       "\n",
       "    .dataframe thead th {\n",
       "        text-align: right;\n",
       "    }\n",
       "</style>\n",
       "<table border=\"1\" class=\"dataframe\">\n",
       "  <thead>\n",
       "    <tr style=\"text-align: right;\">\n",
       "      <th></th>\n",
       "      <th></th>\n",
       "      <th>QUESTION</th>\n",
       "      <th>CATEGORY NAME</th>\n",
       "      <th>CATEGORY ID</th>\n",
       "      <th>REAL ANSWER</th>\n",
       "      <th>PREDICTED ANSWER</th>\n",
       "      <th>REASONING</th>\n",
       "      <th>CORRECTNESS</th>\n",
       "      <th>ACCURACY</th>\n",
       "      <th>CONCISENESS</th>\n",
       "      <th>COHERENCE</th>\n",
       "      <th>HELPFULNESS</th>\n",
       "    </tr>\n",
       "  </thead>\n",
       "  <tbody>\n",
       "    <tr>\n",
       "      <th>test1</th>\n",
       "      <th>0</th>\n",
       "      <td>What has happened in this ROS2 log regarding n...</td>\n",
       "      <td>Navigation Process Overview</td>\n",
       "      <td>0</td>\n",
       "      <td>Based on the provided ROS2 log, the following ...</td>\n",
       "      <td>Based on the provided ROS2 log, there are seve...</td>\n",
       "      <td>The assistant provides an accurate analysis of...</td>\n",
       "      <td>1</td>\n",
       "      <td>7</td>\n",
       "      <td>5</td>\n",
       "      <td>7</td>\n",
       "      <td>7</td>\n",
       "    </tr>\n",
       "    <tr>\n",
       "      <th rowspan=\"4\" valign=\"top\">NaN</th>\n",
       "      <th>1</th>\n",
       "      <td>How has the navigation task proceeded?</td>\n",
       "      <td>Navigation Process Overview</td>\n",
       "      <td>0</td>\n",
       "      <td>From the initial position, the robot navigated...</td>\n",
       "      <td>Based on the provided context, it appears that...</td>\n",
       "      <td>The assistant's response appears to be somewha...</td>\n",
       "      <td>1</td>\n",
       "      <td>3</td>\n",
       "      <td>3</td>\n",
       "      <td>7</td>\n",
       "      <td>5</td>\n",
       "    </tr>\n",
       "    <tr>\n",
       "      <th>2</th>\n",
       "      <td>Has the robot re-planned an alternative trajec...</td>\n",
       "      <td>Trajectory Planning and Replanning</td>\n",
       "      <td>1</td>\n",
       "      <td>Yes, the robot has re-planned an alternative t...</td>\n",
       "      <td>Yes, the robot has re-planned an alternative t...</td>\n",
       "      <td>The assistant's response is accurate as it ali...</td>\n",
       "      <td>1</td>\n",
       "      <td>10</td>\n",
       "      <td>10</td>\n",
       "      <td>10</td>\n",
       "      <td>10</td>\n",
       "    </tr>\n",
       "    <tr>\n",
       "      <th>3</th>\n",
       "      <td>Why did the robot replan the route?</td>\n",
       "      <td>Trajectory Planning and Replanning</td>\n",
       "      <td>1</td>\n",
       "      <td>The robot replanned the route because there wa...</td>\n",
       "      <td>Based on the context provided, the robot repla...</td>\n",
       "      <td>The assistant\\'s response is moderately accura...</td>\n",
       "      <td>0</td>\n",
       "      <td>7</td>\n",
       "      <td>7</td>\n",
       "      <td>5</td>\n",
       "      <td>5</td>\n",
       "    </tr>\n",
       "    <tr>\n",
       "      <th>4</th>\n",
       "      <td>How many goals have been reached by the robot?</td>\n",
       "      <td>Goal Completion and Navigation Task Status</td>\n",
       "      <td>2</td>\n",
       "      <td>The robot has reached 3 goals.</td>\n",
       "      <td>Based on the provided context, we can see that...</td>\n",
       "      <td>The assistant's response is accurate, as it co...</td>\n",
       "      <td>1</td>\n",
       "      <td>10</td>\n",
       "      <td>7</td>\n",
       "      <td>10</td>\n",
       "      <td>10</td>\n",
       "    </tr>\n",
       "  </tbody>\n",
       "</table>\n",
       "</div>"
      ],
      "text/plain": [
       "                                                  QUESTION  \\\n",
       "test1 0  What has happened in this ROS2 log regarding n...   \n",
       "NaN   1             How has the navigation task proceeded?   \n",
       "      2  Has the robot re-planned an alternative trajec...   \n",
       "      3                Why did the robot replan the route?   \n",
       "      4     How many goals have been reached by the robot?   \n",
       "\n",
       "                                      CATEGORY NAME  CATEGORY ID  \\\n",
       "test1 0                 Navigation Process Overview            0   \n",
       "NaN   1                 Navigation Process Overview            0   \n",
       "      2          Trajectory Planning and Replanning            1   \n",
       "      3          Trajectory Planning and Replanning            1   \n",
       "      4  Goal Completion and Navigation Task Status            2   \n",
       "\n",
       "                                               REAL ANSWER  \\\n",
       "test1 0  Based on the provided ROS2 log, the following ...   \n",
       "NaN   1  From the initial position, the robot navigated...   \n",
       "      2  Yes, the robot has re-planned an alternative t...   \n",
       "      3  The robot replanned the route because there wa...   \n",
       "      4                     The robot has reached 3 goals.   \n",
       "\n",
       "                                          PREDICTED ANSWER  \\\n",
       "test1 0  Based on the provided ROS2 log, there are seve...   \n",
       "NaN   1  Based on the provided context, it appears that...   \n",
       "      2  Yes, the robot has re-planned an alternative t...   \n",
       "      3  Based on the context provided, the robot repla...   \n",
       "      4  Based on the provided context, we can see that...   \n",
       "\n",
       "                                                 REASONING  CORRECTNESS  \\\n",
       "test1 0  The assistant provides an accurate analysis of...            1   \n",
       "NaN   1  The assistant's response appears to be somewha...            1   \n",
       "      2  The assistant's response is accurate as it ali...            1   \n",
       "      3  The assistant\\'s response is moderately accura...            0   \n",
       "      4  The assistant's response is accurate, as it co...            1   \n",
       "\n",
       "         ACCURACY  CONCISENESS  COHERENCE  HELPFULNESS  \n",
       "test1 0         7            5          7            7  \n",
       "NaN   1         3            3          7            5  \n",
       "      2        10           10         10           10  \n",
       "      3         7            7          5            5  \n",
       "      4        10            7         10           10  "
      ]
     },
     "execution_count": 99,
     "metadata": {},
     "output_type": "execute_result"
    }
   ],
   "source": [
    "dataset_scn2.head()"
   ]
  },
  {
   "cell_type": "code",
   "execution_count": 100,
   "metadata": {},
   "outputs": [
    {
     "name": "stdout",
     "output_type": "stream",
     "text": [
      "Has the robot completed the navigation task?\n"
     ]
    }
   ],
   "source": [
    "print(dataset_scn2['QUESTION'][21])"
   ]
  },
  {
   "cell_type": "code",
   "execution_count": 101,
   "metadata": {},
   "outputs": [
    {
     "name": "stdout",
     "output_type": "stream",
     "text": [
      "Yes, the robot has completed the navigation task. The context indicates that the robot has successfully navigated to the goal number 3 and the trajectory has been replanned to achieve the goal pose.\n"
     ]
    }
   ],
   "source": [
    "print(dataset_scn2['REAL ANSWER'][21])"
   ]
  },
  {
   "cell_type": "code",
   "execution_count": 102,
   "metadata": {},
   "outputs": [
    {
     "name": "stdout",
     "output_type": "stream",
     "text": [
      "Yes, the robot has completed the navigation task. The context indicates that the goal number 3 has been reached successfully, and the navigation task has been completed.\n"
     ]
    }
   ],
   "source": [
    "print(dataset_scn2['PREDICTED ANSWER'][21])"
   ]
  },
  {
   "cell_type": "code",
   "execution_count": 103,
   "metadata": {},
   "outputs": [
    {
     "name": "stdout",
     "output_type": "stream",
     "text": [
      "The assistant's response is accurate in confirming that the robot has completed the navigation task, and it correctly interprets the context that goal number 3 has been reached. However, it has slight omission as it does not mention the trajectory being replanned to achieve the goal pose. The response is concise and straight to the point, providing the necessary information without any unnecessary details. The assistant's response is also coherent and well-structured. It provides a helpful response to the user's question, although it could have included more detailed information about the trajectory replanning for maximum helpfulness.\n"
     ]
    }
   ],
   "source": [
    "print(dataset_scn2['REASONING'][21])"
   ]
  },
  {
   "cell_type": "code",
   "execution_count": 113,
   "metadata": {},
   "outputs": [
    {
     "name": "stdout",
     "output_type": "stream",
     "text": [
      "1\n"
     ]
    }
   ],
   "source": [
    "print(dataset_scn2['CORRECTNESS'][21])"
   ]
  },
  {
   "cell_type": "code",
   "execution_count": 104,
   "metadata": {},
   "outputs": [
    {
     "name": "stdout",
     "output_type": "stream",
     "text": [
      "9\n"
     ]
    }
   ],
   "source": [
    "print(dataset_scn2['ACCURACY'][21])"
   ]
  },
  {
   "cell_type": "code",
   "execution_count": 105,
   "metadata": {},
   "outputs": [
    {
     "name": "stdout",
     "output_type": "stream",
     "text": [
      "10\n"
     ]
    }
   ],
   "source": [
    "print(dataset_scn2['CONCISENESS'][21])"
   ]
  },
  {
   "cell_type": "code",
   "execution_count": 106,
   "metadata": {},
   "outputs": [
    {
     "name": "stdout",
     "output_type": "stream",
     "text": [
      "10\n"
     ]
    }
   ],
   "source": [
    "print(dataset_scn2['COHERENCE'][21])"
   ]
  },
  {
   "cell_type": "code",
   "execution_count": 107,
   "metadata": {},
   "outputs": [
    {
     "name": "stdout",
     "output_type": "stream",
     "text": [
      "8\n"
     ]
    }
   ],
   "source": [
    "print(dataset_scn2['HELPFULNESS'][21])"
   ]
  },
  {
   "cell_type": "markdown",
   "metadata": {},
   "source": [
    "# Explainability assessment of Scenario 3"
   ]
  },
  {
   "cell_type": "code",
   "execution_count": 125,
   "metadata": {},
   "outputs": [],
   "source": [
    "dataset_scn3 = pd.read_excel(\"LLMs_QA_Results.xlsx\",sheet_name = \"Scn3_Interpreted_1\")"
   ]
  },
  {
   "cell_type": "code",
   "execution_count": 126,
   "metadata": {},
   "outputs": [
    {
     "data": {
      "text/html": [
       "<div>\n",
       "<style scoped>\n",
       "    .dataframe tbody tr th:only-of-type {\n",
       "        vertical-align: middle;\n",
       "    }\n",
       "\n",
       "    .dataframe tbody tr th {\n",
       "        vertical-align: top;\n",
       "    }\n",
       "\n",
       "    .dataframe thead th {\n",
       "        text-align: right;\n",
       "    }\n",
       "</style>\n",
       "<table border=\"1\" class=\"dataframe\">\n",
       "  <thead>\n",
       "    <tr style=\"text-align: right;\">\n",
       "      <th></th>\n",
       "      <th></th>\n",
       "      <th>QUESTION</th>\n",
       "      <th>CATEGORY NAME</th>\n",
       "      <th>CATEGORY ID</th>\n",
       "      <th>REAL ANSWER</th>\n",
       "      <th>PREDICTED ANSWER</th>\n",
       "      <th>REASONING</th>\n",
       "      <th>CORRECTNESS</th>\n",
       "      <th>ACCURACY</th>\n",
       "      <th>CONCISENESS</th>\n",
       "      <th>COHERENCE</th>\n",
       "      <th>HELPFULNESS</th>\n",
       "    </tr>\n",
       "  </thead>\n",
       "  <tbody>\n",
       "    <tr>\n",
       "      <th>test1</th>\n",
       "      <th>0</th>\n",
       "      <td>What has happened in this ROS2 log regarding n...</td>\n",
       "      <td>Navigation Process Overview</td>\n",
       "      <td>0</td>\n",
       "      <td>Based on the provided ROS2 log, the following ...</td>\n",
       "      <td>Based on the provided ROS2 log, there are thre...</td>\n",
       "      <td>The assistant's response is mostly accurate, a...</td>\n",
       "      <td>1</td>\n",
       "      <td>5</td>\n",
       "      <td>7</td>\n",
       "      <td>7</td>\n",
       "      <td>5</td>\n",
       "    </tr>\n",
       "    <tr>\n",
       "      <th rowspan=\"4\" valign=\"top\">NaN</th>\n",
       "      <th>1</th>\n",
       "      <td>How has the navigation task proceeded?</td>\n",
       "      <td>Navigation Process Overview</td>\n",
       "      <td>0</td>\n",
       "      <td>From the initial position, the robot navigated...</td>\n",
       "      <td>Based on the provided context, it seems that t...</td>\n",
       "      <td>The assistant's response provides a detailed e...</td>\n",
       "      <td>1</td>\n",
       "      <td>5</td>\n",
       "      <td>7</td>\n",
       "      <td>10</td>\n",
       "      <td>5</td>\n",
       "    </tr>\n",
       "    <tr>\n",
       "      <th>2</th>\n",
       "      <td>Has the robot re-planned an alternative trajec...</td>\n",
       "      <td>Trajectory Planning and Replanning</td>\n",
       "      <td>1</td>\n",
       "      <td>Yes, the robot has re-planned an alternative t...</td>\n",
       "      <td>Yes, based on the provided context, the robot ...</td>\n",
       "      <td>The assistant's response is accurate and align...</td>\n",
       "      <td>1</td>\n",
       "      <td>10</td>\n",
       "      <td>10</td>\n",
       "      <td>10</td>\n",
       "      <td>10</td>\n",
       "    </tr>\n",
       "    <tr>\n",
       "      <th>3</th>\n",
       "      <td>Why did the robot replan the route?</td>\n",
       "      <td>Trajectory Planning and Replanning</td>\n",
       "      <td>1</td>\n",
       "      <td>The robot replanned the route because there wa...</td>\n",
       "      <td>Based on the provided context, it seems that t...</td>\n",
       "      <td>The assistant\\'s response is accurate. It expl...</td>\n",
       "      <td>1</td>\n",
       "      <td>10</td>\n",
       "      <td>7</td>\n",
       "      <td>10</td>\n",
       "      <td>10</td>\n",
       "    </tr>\n",
       "    <tr>\n",
       "      <th>4</th>\n",
       "      <td>How many goals have been reached by the robot?</td>\n",
       "      <td>Goal Completion and Navigation Task Status</td>\n",
       "      <td>2</td>\n",
       "      <td>The robot has reached goals number 2 and 3. Go...</td>\n",
       "      <td>Based on the provided context, there have been...</td>\n",
       "      <td>The assistant's response is inaccurate because...</td>\n",
       "      <td>1</td>\n",
       "      <td>3</td>\n",
       "      <td>3</td>\n",
       "      <td>10</td>\n",
       "      <td>10</td>\n",
       "    </tr>\n",
       "  </tbody>\n",
       "</table>\n",
       "</div>"
      ],
      "text/plain": [
       "                                                  QUESTION  \\\n",
       "test1 0  What has happened in this ROS2 log regarding n...   \n",
       "NaN   1             How has the navigation task proceeded?   \n",
       "      2  Has the robot re-planned an alternative trajec...   \n",
       "      3                Why did the robot replan the route?   \n",
       "      4     How many goals have been reached by the robot?   \n",
       "\n",
       "                                      CATEGORY NAME  CATEGORY ID  \\\n",
       "test1 0                 Navigation Process Overview            0   \n",
       "NaN   1                 Navigation Process Overview            0   \n",
       "      2          Trajectory Planning and Replanning            1   \n",
       "      3          Trajectory Planning and Replanning            1   \n",
       "      4  Goal Completion and Navigation Task Status            2   \n",
       "\n",
       "                                               REAL ANSWER  \\\n",
       "test1 0  Based on the provided ROS2 log, the following ...   \n",
       "NaN   1  From the initial position, the robot navigated...   \n",
       "      2  Yes, the robot has re-planned an alternative t...   \n",
       "      3  The robot replanned the route because there wa...   \n",
       "      4  The robot has reached goals number 2 and 3. Go...   \n",
       "\n",
       "                                          PREDICTED ANSWER  \\\n",
       "test1 0  Based on the provided ROS2 log, there are thre...   \n",
       "NaN   1  Based on the provided context, it seems that t...   \n",
       "      2  Yes, based on the provided context, the robot ...   \n",
       "      3  Based on the provided context, it seems that t...   \n",
       "      4  Based on the provided context, there have been...   \n",
       "\n",
       "                                                 REASONING  CORRECTNESS  \\\n",
       "test1 0  The assistant's response is mostly accurate, a...            1   \n",
       "NaN   1  The assistant's response provides a detailed e...            1   \n",
       "      2  The assistant's response is accurate and align...            1   \n",
       "      3  The assistant\\'s response is accurate. It expl...            1   \n",
       "      4  The assistant's response is inaccurate because...            1   \n",
       "\n",
       "         ACCURACY  CONCISENESS  COHERENCE  HELPFULNESS  \n",
       "test1 0         5            7          7            5  \n",
       "NaN   1         5            7         10            5  \n",
       "      2        10           10         10           10  \n",
       "      3        10            7         10           10  \n",
       "      4         3            3         10           10  "
      ]
     },
     "execution_count": 126,
     "metadata": {},
     "output_type": "execute_result"
    }
   ],
   "source": [
    "dataset_scn3.head()"
   ]
  },
  {
   "cell_type": "code",
   "execution_count": 127,
   "metadata": {},
   "outputs": [
    {
     "name": "stdout",
     "output_type": "stream",
     "text": [
      "Did any node from the Nav2 Behavior Tree fail during the navigation?\n"
     ]
    }
   ],
   "source": [
    "print(dataset_scn3['QUESTION'][58])"
   ]
  },
  {
   "cell_type": "code",
   "execution_count": 128,
   "metadata": {},
   "outputs": [
    {
     "name": "stdout",
     "output_type": "stream",
     "text": [
      "Yes, some nodes in the Nav2 Behavior Tree that have failed during the navigation.\n"
     ]
    }
   ],
   "source": [
    "print(dataset_scn3['REAL ANSWER'][58])"
   ]
  },
  {
   "cell_type": "code",
   "execution_count": 129,
   "metadata": {},
   "outputs": [
    {
     "name": "stdout",
     "output_type": "stream",
     "text": [
      "Based on the provided context, we can see that several nodes in the Nav2 Behavior Tree have failed. Specifically, the following nodes have failed:\n",
      "* Nav2 Behavior Tree node NavigateWithReplanning: This node performs the path planning and adjustment to adapt to changing environmental conditions in real-time, but it has failed.\n",
      "* Nav2 Behavior Tree node GoalUpdated: This node updates the goal of the agent based on new information, but it has failed.\n",
      "* Nav2 Behavior Tree node RecoveryActions: This node performs recovery actions when unexpected situations arise, but it is currently running.\n",
      "* Nav2 Behavior Tree node Spin: This node spins the agent's wheels to move in a specific direction, but it is currently running.\n",
      "* Nav2 Behavior Tree node RecoveryFallback: This node falls back to a previous plan or goal when all other recovery actions fail, but it is currently running.\n",
      "Therefore, the answer to the user's question is yes, at least one node from the Nav2 Behavior Tree has failed during the navigation.\n"
     ]
    }
   ],
   "source": [
    "print(dataset_scn3['PREDICTED ANSWER'][58])"
   ]
  },
  {
   "cell_type": "code",
   "execution_count": 130,
   "metadata": {},
   "outputs": [
    {
     "name": "stdout",
     "output_type": "stream",
     "text": [
      "The AI assistant's response is accurate as it correctly interprets the ground truth that none of the nodes in the Nav2 Behavior Tree have failed during the navigation. The response is concise and to the point, providing necessary details about the functioning of different nodes without any irrelevant information. It is also coherent, with a clear and logical organization of information. Furthermore, the response is helpful as it not only confirms that no node failed but also explains the roles of some of the nodes in the Nav2 Behavior Tree.\n"
     ]
    }
   ],
   "source": [
    "print(dataset_scn2['REASONING'][58])"
   ]
  },
  {
   "cell_type": "code",
   "execution_count": 131,
   "metadata": {},
   "outputs": [
    {
     "name": "stdout",
     "output_type": "stream",
     "text": [
      "1\n"
     ]
    }
   ],
   "source": [
    "print(dataset_scn2['CORRECTNESS'][58])"
   ]
  },
  {
   "cell_type": "code",
   "execution_count": 132,
   "metadata": {},
   "outputs": [
    {
     "name": "stdout",
     "output_type": "stream",
     "text": [
      "10\n"
     ]
    }
   ],
   "source": [
    "print(dataset_scn2['ACCURACY'][58])"
   ]
  },
  {
   "cell_type": "code",
   "execution_count": 133,
   "metadata": {},
   "outputs": [
    {
     "name": "stdout",
     "output_type": "stream",
     "text": [
      "10\n"
     ]
    }
   ],
   "source": [
    "print(dataset_scn2['CONCISENESS'][58])"
   ]
  },
  {
   "cell_type": "code",
   "execution_count": 134,
   "metadata": {},
   "outputs": [
    {
     "name": "stdout",
     "output_type": "stream",
     "text": [
      "10\n"
     ]
    }
   ],
   "source": [
    "print(dataset_scn2['COHERENCE'][58])"
   ]
  },
  {
   "cell_type": "code",
   "execution_count": 135,
   "metadata": {},
   "outputs": [
    {
     "name": "stdout",
     "output_type": "stream",
     "text": [
      "10\n"
     ]
    }
   ],
   "source": [
    "print(dataset_scn2['HELPFULNESS'][58])"
   ]
  },
  {
   "cell_type": "code",
   "execution_count": null,
   "metadata": {},
   "outputs": [],
   "source": []
  }
 ],
 "metadata": {
  "kernelspec": {
   "display_name": "Python 3",
   "language": "python",
   "name": "python3"
  },
  "language_info": {
   "codemirror_mode": {
    "name": "ipython",
    "version": 3
   },
   "file_extension": ".py",
   "mimetype": "text/x-python",
   "name": "python",
   "nbconvert_exporter": "python",
   "pygments_lexer": "ipython3",
   "version": "3.6.4"
  }
 },
 "nbformat": 4,
 "nbformat_minor": 2
}
